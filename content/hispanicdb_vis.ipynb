{
  "metadata": {
    "language_info": {
      "codemirror_mode": {
        "name": "python",
        "version": 3
      },
      "file_extension": ".py",
      "mimetype": "text/x-python",
      "name": "python",
      "nbconvert_exporter": "python",
      "pygments_lexer": "ipython3",
      "version": "3.8"
    },
    "kernelspec": {
      "name": "python",
      "display_name": "Pyolite",
      "language": "python"
    }
  },
  "nbformat_minor": 4,
  "nbformat": 4,
  "cells": [
    {
      "cell_type": "markdown",
      "source": "# Análisis y visualización de la base de datos de \"Dialectos del español\"\n\n![](https://www.dialectosdelespanol.org/android-icon-144x144.png)\n\nEste análisis ha sido realizado el 31 de marzo del 2022 por <b><a href=\"www.h4ck1ng.science\">Carlos Vivar Ríos (UNIL, h4ck1ng.science)</a></b> en colaboración con <b>Cristina Pena Rueda (Section d'espagnol, UNIL).</b>\n\nEl objetivo de esta página web es proporcionar una forma rápida y segura de poder analizar los resultados de la base de datos. Es necesario contar con los archivos`.pickle`, `.csv` y `.geojson` para poder ejecutar este código. Los archivos no serán subidos a ningún servidor y todo el análisis se realizará en tu navegador gracias a la tecnología WebAssembly. Todo dato se borrará al cerra la pestaña. Debido al ser una tecnología en desarrollo se recomienda el uso de Google Chrome o Mozilla Firefox. \n\n<b>Cuaderno en proceso de construcción</b>",
      "metadata": {}
    },
    {
      "cell_type": "markdown",
      "source": "## Instalación de las dependencias",
      "metadata": {}
    },
    {
      "cell_type": "code",
      "source": "import piplite\nawait piplite.install(['plotly', 'ipywidgets','openpyxl', 'itables'])",
      "metadata": {
        "trusted": true
      },
      "execution_count": 2,
      "outputs": []
    },
    {
      "cell_type": "code",
      "source": "import ipywidgets as widgets\nimport io\nimport pandas as pd\nimport plotly.express as px\nimport io\nfrom IPython.core.display import display, HTML\n#import plotly.graph_objects as go\nfrom itables import init_notebook_mode\nfrom itables import show as ishow\ninit_notebook_mode(all_interactive=True)",
      "metadata": {
        "trusted": true
      },
      "execution_count": 3,
      "outputs": [
        {
          "name": "stderr",
          "text": "/lib/python3.9/site-packages/pandas/compat/__init__.py:124: UserWarning: Could not import the lzma module. Your installed Python is incomplete. Attempting to use lzma compression will result in a RuntimeError.\n  warnings.warn(msg)\n<ipython-input-3-9982c2cdb3be>:6: DeprecationWarning: Importing display from IPython.core.display is deprecated since IPython 7.14, please import from IPython display\n  from IPython.core.display import display, HTML\n",
          "output_type": "stream"
        },
        {
          "output_type": "display_data",
          "data": {
            "text/plain": "<IPython.core.display.Javascript object>",
            "application/javascript": "if (typeof require !== 'undefined')\n    require.config({\n        paths: {\n            jquery: 'https://code.jquery.com/jquery-3.5.1.min',\n            datatables: 'https://cdn.datatables.net/1.11.3/js/jquery.dataTables.min',\n        }\n    });\n"
          },
          "metadata": {}
        }
      ]
    },
    {
      "cell_type": "code",
      "source": "display(HTML(\"<style>.jp-Notebook { padding-left: 100px !important; padding-right: 100px !important; }</style>\"))",
      "metadata": {
        "trusted": true
      },
      "execution_count": 3,
      "outputs": [
        {
          "output_type": "display_data",
          "data": {
            "text/plain": "<IPython.core.display.HTML object>",
            "text/html": "<style>.jp-Notebook { padding-left: 100px !important; padding-right: 100px !important; }</style>"
          },
          "metadata": {}
        }
      ]
    },
    {
      "cell_type": "markdown",
      "source": "# Carga de los datos",
      "metadata": {}
    },
    {
      "cell_type": "markdown",
      "source": "### Carga del base de datos en formato excel/Pickle\n\nEs necesario esperar a que el archivo este cargado para continuar. `Upload (0)` pasara a `Upload (1)`.",
      "metadata": {}
    },
    {
      "cell_type": "code",
      "source": "uploader = widgets.FileUpload(\n    accept='', \n    multiple=False  \n)\ndisplay(uploader)",
      "metadata": {
        "trusted": true
      },
      "execution_count": 4,
      "outputs": [
        {
          "output_type": "display_data",
          "data": {
            "text/plain": "FileUpload(value={}, description='Upload')",
            "application/vnd.jupyter.widget-view+json": {
              "version_major": 2,
              "version_minor": 0,
              "model_id": "dd7e2f5f700c4be3ae0a19797e3e8b36"
            }
          },
          "metadata": {}
        }
      ]
    },
    {
      "cell_type": "code",
      "source": "input_file = list(uploader.value.values())[0]\ncontent = input_file['content']\ncontent = io.BytesIO(content)\ndf = pd.read_pickle(content)\ndf.shape",
      "metadata": {
        "trusted": true
      },
      "execution_count": 5,
      "outputs": [
        {
          "execution_count": 5,
          "output_type": "execute_result",
          "data": {
            "text/plain": "(581760, 11)"
          },
          "metadata": {}
        }
      ]
    },
    {
      "cell_type": "code",
      "source": "# ## This just in case the file is a csv\n# input_file = list(uploader.value.values())[0]\n# content = input_file['content']\n# content = io.StringIO(content.decode('utf-8'))\n# df = pd.read_csv(content, names=['lat', 'lon', 'country_code', 'city'], sep=';')\n# df.shape",
      "metadata": {
        "trusted": true
      },
      "execution_count": null,
      "outputs": []
    },
    {
      "cell_type": "markdown",
      "source": "## Visualización de la tabla",
      "metadata": {}
    },
    {
      "cell_type": "code",
      "source": "subdf = df.iloc[:1000]",
      "metadata": {
        "trusted": true
      },
      "execution_count": null,
      "outputs": []
    },
    {
      "cell_type": "code",
      "source": "#ishow(subdf)",
      "metadata": {
        "trusted": true
      },
      "execution_count": null,
      "outputs": []
    },
    {
      "cell_type": "markdown",
      "source": "## Visualización del mapa\n\nSelección de un campo de coordenadas por ejemplo \"Vivo en\". Para poder realizar esta visualización debes proporcionar tu clave API de Mapbox. Se puede conseguir gratuitamente: [MapBox](https://www.mapbox.com/)",
      "metadata": {}
    },
    {
      "cell_type": "code",
      "source": "ACCESS_TOKEN = widgets.Text(\n    value='Hello World',\n    placeholder='Type your token',\n    description='String:',\n    disabled=False\n)\ndisplay(ACCESS_TOKEN)",
      "metadata": {
        "trusted": true
      },
      "execution_count": 7,
      "outputs": [
        {
          "output_type": "display_data",
          "data": {
            "text/plain": "Text(value='Hello World', description='String:', placeholder='Type your token')",
            "application/vnd.jupyter.widget-view+json": {
              "version_major": 2,
              "version_minor": 0,
              "model_id": "195f49ccde084911a2f8928224724606"
            }
          },
          "metadata": {}
        }
      ]
    },
    {
      "cell_type": "code",
      "source": "px.set_mapbox_access_token(ACCESS_TOKEN.value)",
      "metadata": {
        "trusted": true
      },
      "execution_count": 8,
      "outputs": []
    },
    {
      "cell_type": "markdown",
      "source": "Selección de columnas y de países de interés",
      "metadata": {}
    },
    {
      "cell_type": "code",
      "source": "dfmap =  df[df['Vivo en _predicted_country'].isin(countries_of_interest)]\ndfmap = dfmap[['Juan habla mal...', 'Vivo en _lat', 'Vivo en _lon', 'Vivo en _predicted_country']].dropna() #'Vivo en _predicted_city' ",
      "metadata": {},
      "execution_count": null,
      "outputs": []
    },
    {
      "cell_type": "code",
      "source": "fig = px.scatter_mapbox(dfmap, lat=\"Vivo en _lat\", lon=\"Vivo en _lon\", color='Vivo en _predicted_country', hover_name='Vivo en _predicted_country',\n                        hover_data=['Juan habla mal...'], #, 'Vivo en _predicted_city'\n                  color_continuous_scale=px.colors.cyclical.IceFire, size_max=2, zoom=1, opacity=1, width=1500, height=800)\n\n#fig.update_layout(coloraxis_showscale=False)\nfig.update_layout(showlegend=False)\n#fig.show()",
      "metadata": {
        "trusted": true
      },
      "execution_count": 1,
      "outputs": [
        {
          "ename": "<class 'NameError'>",
          "evalue": "name 'df' is not defined",
          "traceback": [
            "\u001b[0;31m---------------------------------------------------------------------------\u001b[0m",
            "\u001b[0;31mNameError\u001b[0m                                 Traceback (most recent call last)",
            "Input \u001b[0;32mIn [1]\u001b[0m, in \u001b[0;36m<cell line: 1>\u001b[0;34m()\u001b[0m\n\u001b[0;32m----> 1\u001b[0m dfmap \u001b[38;5;241m=\u001b[39m \u001b[43mdf\u001b[49m[[\u001b[38;5;124m'\u001b[39m\u001b[38;5;124mJuan habla mal...\u001b[39m\u001b[38;5;124m'\u001b[39m, \u001b[38;5;124m'\u001b[39m\u001b[38;5;124mVivo en _lat\u001b[39m\u001b[38;5;124m'\u001b[39m, \u001b[38;5;124m'\u001b[39m\u001b[38;5;124mVivo en _lon\u001b[39m\u001b[38;5;124m'\u001b[39m, \u001b[38;5;124m'\u001b[39m\u001b[38;5;124mVivo en _predicted_country\u001b[39m\u001b[38;5;124m'\u001b[39m]]\u001b[38;5;241m.\u001b[39mdropna() \u001b[38;5;66;03m#'Vivo en _predicted_city' \u001b[39;00m\n\u001b[1;32m      3\u001b[0m fig \u001b[38;5;241m=\u001b[39m px\u001b[38;5;241m.\u001b[39mscatter_mapbox(dfmap, lat\u001b[38;5;241m=\u001b[39m\u001b[38;5;124m\"\u001b[39m\u001b[38;5;124mVivo en _lat\u001b[39m\u001b[38;5;124m\"\u001b[39m, lon\u001b[38;5;241m=\u001b[39m\u001b[38;5;124m\"\u001b[39m\u001b[38;5;124mVivo en _lon\u001b[39m\u001b[38;5;124m\"\u001b[39m, color\u001b[38;5;241m=\u001b[39m\u001b[38;5;124m'\u001b[39m\u001b[38;5;124mVivo en _predicted_country\u001b[39m\u001b[38;5;124m'\u001b[39m, hover_name\u001b[38;5;241m=\u001b[39m\u001b[38;5;124m'\u001b[39m\u001b[38;5;124mVivo en _predicted_country\u001b[39m\u001b[38;5;124m'\u001b[39m,\n\u001b[1;32m      4\u001b[0m                         hover_data\u001b[38;5;241m=\u001b[39m[\u001b[38;5;124m'\u001b[39m\u001b[38;5;124mJuan habla mal...\u001b[39m\u001b[38;5;124m'\u001b[39m], \u001b[38;5;66;03m#, 'Vivo en _predicted_city'\u001b[39;00m\n\u001b[1;32m      5\u001b[0m                   color_continuous_scale\u001b[38;5;241m=\u001b[39mpx\u001b[38;5;241m.\u001b[39mcolors\u001b[38;5;241m.\u001b[39mcyclical\u001b[38;5;241m.\u001b[39mIceFire, size_max\u001b[38;5;241m=\u001b[39m\u001b[38;5;241m2\u001b[39m, zoom\u001b[38;5;241m=\u001b[39m\u001b[38;5;241m1\u001b[39m, opacity\u001b[38;5;241m=\u001b[39m\u001b[38;5;241m1\u001b[39m, width\u001b[38;5;241m=\u001b[39m\u001b[38;5;241m1500\u001b[39m, height\u001b[38;5;241m=\u001b[39m\u001b[38;5;241m800\u001b[39m)\n\u001b[1;32m      7\u001b[0m fig\u001b[38;5;241m.\u001b[39mupdate_layout(coloraxis_showscale\u001b[38;5;241m=\u001b[39m\u001b[38;5;28;01mFalse\u001b[39;00m)\n",
            "\u001b[0;31mNameError\u001b[0m: name 'df' is not defined"
          ],
          "output_type": "error"
        }
      ]
    }
  ]
}