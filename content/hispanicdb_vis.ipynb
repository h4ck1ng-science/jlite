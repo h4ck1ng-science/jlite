{
  "metadata": {
    "language_info": {
      "codemirror_mode": {
        "name": "python",
        "version": 3
      },
      "file_extension": ".py",
      "mimetype": "text/x-python",
      "name": "python",
      "nbconvert_exporter": "python",
      "pygments_lexer": "ipython3",
      "version": "3.8"
    },
    "kernelspec": {
      "name": "python",
      "display_name": "Pyolite",
      "language": "python"
    }
  },
  "nbformat_minor": 4,
  "nbformat": 4,
  "cells": [
    {
      "cell_type": "markdown",
      "source": "# Análisis y visualización de la base de datos de \"Dialectos del español\"\n\n![](https://www.dialectosdelespanol.org/android-icon-144x144.png)\n\nEste análisis ha sido realizado el 31 de marzo del 2022 por <b><a href=\"www.h4ck1ng.science\">Carlos Vivar Ríos (UNIL, h4ck1ng.science)</a></b> en colaboración con <b>Cristina Pena Rueda (Section d'espagnol, UNIL).</b>\n\nEl objetivo de esta página web es proporcionar una forma rápida y segura de poder analizar los resultados de la base de datos. Es necesario contar con los archivos`.pickle`, `.csv` y `.geojson` para poder ejecutar este código. Los archivos no serán subidos a ningún servidor y todo el análisis se realizará en tu navegador gracias a la tecnología WebAssembly. Todo dato se borrará al cerra la pestaña. Debido al ser una tecnología en desarrollo se recomienda el uso de Google Chrome o Mozilla Firefox. \n\n<b>Cuaderno en proceso de construcción</b>",
      "metadata": {}
    },
    {
      "cell_type": "markdown",
      "source": "## Instalación de las dependencias",
      "metadata": {}
    },
    {
      "cell_type": "code",
      "source": "import piplite\nawait piplite.install(['plotly', 'ipywidgets','openpyxl', 'itables'])",
      "metadata": {
        "trusted": true
      },
      "execution_count": null,
      "outputs": []
    },
    {
      "cell_type": "code",
      "source": "import ipywidgets as widgets\nimport io\nimport pandas as pd\nimport plotly.express as px\nimport io\nfrom IPython.core.display import display, HTML\n#import plotly.graph_objects as go\nfrom itables import init_notebook_mode\nfrom itables import show as ishow\ninit_notebook_mode(all_interactive=True)",
      "metadata": {
        "trusted": true
      },
      "execution_count": null,
      "outputs": []
    },
    {
      "cell_type": "code",
      "source": "display(HTML(\"<style>.jp-Notebook { padding-left: 100px !important; padding-right: 100px !important; }</style>\"))",
      "metadata": {
        "trusted": true
      },
      "execution_count": null,
      "outputs": []
    },
    {
      "cell_type": "markdown",
      "source": "# Carga de los datos",
      "metadata": {}
    },
    {
      "cell_type": "markdown",
      "source": "### Carga del base de datos en formato excel/Pickle\n\nEs necesario esperar a que el archivo este cargado para continuar. `Upload (0)` pasara a `Upload (1)`.",
      "metadata": {}
    },
    {
      "cell_type": "code",
      "source": "uploader = widgets.FileUpload(\n    accept='', \n    multiple=False  \n)\ndisplay(uploader)",
      "metadata": {
        "trusted": true
      },
      "execution_count": null,
      "outputs": []
    },
    {
      "cell_type": "code",
      "source": "input_file = list(uploader.value.values())[0]\ncontent = input_file['content']\ncontent = io.BytesIO(content)\ndf = pd.read_pickle(content).iloc[:200000]\ndf.shape\n#ishow(df.iloc[:1000])",
      "metadata": {
        "trusted": true
      },
      "execution_count": null,
      "outputs": []
    },
    {
      "cell_type": "code",
      "source": "# ## This just in case the file is a csv\n# input_file = list(uploader.value.values())[0]\n# content = input_file['content']\n# content = io.StringIO(content.decode('utf-8'))\n# df = pd.read_csv(content, names=['lat', 'lon', 'country_code', 'city'], sep=';')\n# df.shape",
      "metadata": {
        "trusted": true
      },
      "execution_count": null,
      "outputs": []
    },
    {
      "cell_type": "markdown",
      "source": "## Visualización de la tabla",
      "metadata": {}
    },
    {
      "cell_type": "code",
      "source": "subdf = df.iloc[:1000]",
      "metadata": {
        "trusted": true
      },
      "execution_count": null,
      "outputs": []
    },
    {
      "cell_type": "code",
      "source": "#ishow(subdf)",
      "metadata": {
        "trusted": true
      },
      "execution_count": null,
      "outputs": []
    },
    {
      "cell_type": "markdown",
      "source": "## Visualización del mapa\n\nSelección de un campo de coordenadas por ejemplo \"Vivo en\". Para poder realizar esta visualización debes proporcionar tu clave API de Mapbox. Se puede conseguir gratuitamente: [MapBox](https://www.mapbox.com/)",
      "metadata": {}
    },
    {
      "cell_type": "code",
      "source": "ACCESS_TOKEN = widgets.Text(\n    value='Hello World',\n    placeholder='Type your token',\n    description='String:',\n    disabled=False\n)\ndisplay(ACCESS_TOKEN)",
      "metadata": {
        "trusted": true
      },
      "execution_count": null,
      "outputs": []
    },
    {
      "cell_type": "code",
      "source": "px.set_mapbox_access_token(ACCESS_TOKEN.value)",
      "metadata": {
        "trusted": true
      },
      "execution_count": null,
      "outputs": []
    },
    {
      "cell_type": "markdown",
      "source": "Selección de columnas y de países de interés",
      "metadata": {}
    },
    {
      "cell_type": "code",
      "source": "countries_of_interest = ['Spain', 'Cuba', 'Puerto Rico', 'Dominican Republic', 'Paraguay']\ndfmap =  df[df['Vivo en _predicted_country'].isin(countries_of_interest)]\ndfmap = dfmap[['Juan habla mal...', 'Vivo en _lat', 'Vivo en _lon', 'Vivo en _predicted_country']].dropna() #'Vivo en _predicted_city' ",
      "metadata": {
        "trusted": true
      },
      "execution_count": null,
      "outputs": []
    },
    {
      "cell_type": "markdown",
      "source": "### Visualizaci'on por pa'is",
      "metadata": {}
    },
    {
      "cell_type": "code",
      "source": "fig = px.scatter_mapbox(dfmap, lat=\"Vivo en _lat\", lon=\"Vivo en _lon\", color='Juan habla mal...', hover_name='Vivo en _predicted_country',\n                        hover_data=['Vivo en _predicted_country'], #, 'Vivo en _predicted_city'\n                  color_continuous_scale=px.colors.cyclical.IceFire, size_max=2, zoom=1, opacity=1, width=1500, height=800)\n\n#fig.update_layout(coloraxis_showscale=False)\n#fig.update_layout(showlegend=True)\n#fig.show()",
      "metadata": {
        "trusted": true
      },
      "execution_count": null,
      "outputs": []
    },
    {
      "cell_type": "markdown",
      "source": "### Category Vis",
      "metadata": {}
    },
    {
      "cell_type": "code",
      "source": "fig = px.scatter_mapbox(dfmap, lat=\"Vivo en _lat\", lon=\"Vivo en _lon\", color='Juan habla mal...', hover_name='Vivo en _predicted_country',\n                        hover_data=['Juan habla mal...'], #, 'Vivo en _predicted_city'\n                  color_continuous_scale=px.colors.cyclical.IceFire, size_max=2, zoom=1, opacity=1, width=1500, height=800)\n\n#fig.update_layout(coloraxis_showscale=False)\nfig.update_layout(showlegend=True)\n#fig.show()",
      "metadata": {},
      "execution_count": null,
      "outputs": []
    },
    {
      "cell_type": "markdown",
      "source": "### Densidad de variante",
      "metadata": {}
    },
    {
      "cell_type": "code",
      "source": "dfmap['Juan habla mal...'].unique()",
      "metadata": {
        "trusted": true
      },
      "execution_count": null,
      "outputs": []
    },
    {
      "cell_type": "code",
      "source": "dfmap['heat'] = 1\nsubdf = dfmap[dfmap['Juan habla mal...'] == 'de mí.']",
      "metadata": {
        "trusted": true
      },
      "execution_count": null,
      "outputs": []
    },
    {
      "cell_type": "code",
      "source": "fig = px.density_mapbox(subdf, lat=\"Vivo en _lat\", lon=\"Vivo en _lon\", z='heat', radius=1,\n                        center=dict(lat=0, lon=180),\n                        zoom=1,width=1500, height=800,opacity=0.5)#,\n                        #mapbox_style=\"stamen-terrain\")\nfig.show()",
      "metadata": {
        "trusted": true
      },
      "execution_count": null,
      "outputs": []
    }
  ]
}